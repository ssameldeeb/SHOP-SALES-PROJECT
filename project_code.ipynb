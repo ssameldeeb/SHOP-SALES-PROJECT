{
 "cells": [
  {
   "cell_type": "code",
   "execution_count": 1,
   "id": "9a21d090",
   "metadata": {},
   "outputs": [],
   "source": [
    "import pandas as pd\n",
    "import matplotlib.pyplot as plt\n",
    "import seaborn as sns\n",
    "from sklearn.preprocessing import LabelEncoder\n",
    "from sklearn.preprocessing import StandardScaler\n",
    "from sklearn.model_selection import train_test_split\n",
    "from sklearn.linear_model import LinearRegression\n",
    "from sklearn.ensemble import RandomForestRegressor\n"
   ]
  },
  {
   "cell_type": "code",
   "execution_count": 7,
   "id": "a05eb79c",
   "metadata": {},
   "outputs": [],
   "source": [
    "df = pd.read_csv('SHOP-SALES.csv')"
   ]
  },
  {
   "cell_type": "code",
   "execution_count": 8,
   "id": "3ab0a5c2",
   "metadata": {},
   "outputs": [
    {
     "name": "stdout",
     "output_type": "stream",
     "text": [
      "(9999, 11)\n",
      "['Date' 'HOUR' 'GENDER' 'PRODUCT' 'COLOR' 'SIZE' 'SALE CONSULTANT'\n",
      " 'QUANTITY' 'PRICE' 'VAT' 'TOTAL']\n",
      "<class 'pandas.core.frame.DataFrame'>\n",
      "RangeIndex: 9999 entries, 0 to 9998\n",
      "Data columns (total 11 columns):\n",
      " #   Column           Non-Null Count  Dtype  \n",
      "---  ------           --------------  -----  \n",
      " 0   Date             9999 non-null   object \n",
      " 1   HOUR             9999 non-null   object \n",
      " 2   GENDER           9999 non-null   object \n",
      " 3   PRODUCT          9999 non-null   object \n",
      " 4   COLOR            9999 non-null   int64  \n",
      " 5   SIZE             9999 non-null   object \n",
      " 6   SALE CONSULTANT  9999 non-null   object \n",
      " 7   QUANTITY         9999 non-null   int64  \n",
      " 8   PRICE            9999 non-null   float64\n",
      " 9   VAT              9999 non-null   float64\n",
      " 10  TOTAL            9999 non-null   int64  \n",
      "dtypes: float64(2), int64(3), object(6)\n",
      "memory usage: 859.4+ KB\n",
      "None\n",
      "       Date         HOUR GENDER            PRODUCT  COLOR SIZE  \\\n",
      "0  6/1/2020  10:21:00 AM    MEN            T SHIRT   2160   XS   \n",
      "1  6/1/2020  10:24:00 AM  WOMEN  SHIRT LONG SLEEVE   2550   40   \n",
      "2  6/1/2020  10:26:00 AM    MEN  SHIRT LONG SLEEVE    900  45X   \n",
      "3  6/1/2020  10:29:00 AM  WOMEN      KNIT TROUSERS    600   XL   \n",
      "4  6/1/2020  10:30:00 AM    MEN  SHIRT LONG SLEEVE   1800  39X   \n",
      "\n",
      "   SALE CONSULTANT  QUANTITY  PRICE   VAT  TOTAL  \n",
      "0      Mary Taylor         1  36.94  2.96     40  \n",
      "1     Kelli Cooley         1  73.98  5.92     80  \n",
      "2  Bradley Saldana         1  73.98  5.92     80  \n",
      "3     Kelli Cooley         1  46.20  3.70     50  \n",
      "4     Robert Moran         1  82.32  6.58     89  \n",
      "Date                object\n",
      "HOUR                object\n",
      "GENDER              object\n",
      "PRODUCT             object\n",
      "COLOR                int64\n",
      "SIZE                object\n",
      "SALE CONSULTANT     object\n",
      "QUANTITY             int64\n",
      "PRICE              float64\n",
      "VAT                float64\n",
      "TOTAL                int64\n",
      "dtype: object\n"
     ]
    }
   ],
   "source": [
    "print(df.shape)\n",
    "print(df.columns.values)\n",
    "print(df.info())\n",
    "print(df.head())\n",
    "print(df.dtypes)"
   ]
  },
  {
   "cell_type": "code",
   "execution_count": 9,
   "id": "3b034c92",
   "metadata": {},
   "outputs": [
    {
     "name": "stdout",
     "output_type": "stream",
     "text": [
      "[1]\n"
     ]
    }
   ],
   "source": [
    "print(df[\"QUANTITY\"].unique())"
   ]
  },
  {
   "cell_type": "code",
   "execution_count": 10,
   "id": "b8fe9d39",
   "metadata": {},
   "outputs": [
    {
     "name": "stdout",
     "output_type": "stream",
     "text": [
      "  GENDER            PRODUCT  COLOR SIZE   VAT  TOTAL\n",
      "0    MEN            T SHIRT   2160   XS  2.96     40\n",
      "1  WOMEN  SHIRT LONG SLEEVE   2550   40  5.92     80\n",
      "2    MEN  SHIRT LONG SLEEVE    900  45X  5.92     80\n",
      "3  WOMEN      KNIT TROUSERS    600   XL  3.70     50\n",
      "4    MEN  SHIRT LONG SLEEVE   1800  39X  6.58     89\n"
     ]
    }
   ],
   "source": [
    "df = df.drop([\"Date\",\"HOUR\",\"PRICE\",\"QUANTITY\",\"SALE CONSULTANT\"], axis=1)\n",
    "print(df.head())"
   ]
  },
  {
   "cell_type": "code",
   "execution_count": 11,
   "id": "a3229acc",
   "metadata": {},
   "outputs": [
    {
     "name": "stdout",
     "output_type": "stream",
     "text": [
      "MEN      5228\n",
      "WOMEN    2518\n",
      "BOYS     1618\n",
      "GIRLS     634\n",
      "Erkek       1\n",
      "Name: GENDER, dtype: int64\n",
      "  GENDER            PRODUCT  COLOR SIZE   VAT  TOTAL\n",
      "0      1            T SHIRT   2160   XS  2.96     40\n",
      "1      2  SHIRT LONG SLEEVE   2550   40  5.92     80\n",
      "2      1  SHIRT LONG SLEEVE    900  45X  5.92     80\n",
      "3      2      KNIT TROUSERS    600   XL  3.70     50\n",
      "4      1  SHIRT LONG SLEEVE   1800  39X  6.58     89\n"
     ]
    },
    {
     "name": "stderr",
     "output_type": "stream",
     "text": [
      "C:\\ProgramData\\Anaconda3\\lib\\site-packages\\seaborn\\_decorators.py:36: FutureWarning: Pass the following variable as a keyword arg: x. From version 0.12, the only valid positional argument will be `data`, and passing other arguments without an explicit keyword will result in an error or misinterpretation.\n",
      "  warnings.warn(\n"
     ]
    },
    {
     "data": {
      "image/png": "[encoded data removed]",
      "text/plain": [
       "<Figure size 432x288 with 1 Axes>"
      ]
     },
     "metadata": {
      "needs_background": "light"
     },
     "output_type": "display_data"
    }
   ],
   "source": [
    "print(df[\"GENDER\"].value_counts())\n",
    "df.loc[df[\"GENDER\"] == \"MEN\",\"GENDER\"] = 1\n",
    "df.loc[df[\"GENDER\"] == \"WOMEN\",\"GENDER\"] = 2\n",
    "df.loc[df[\"GENDER\"] == \"BOYS\",\"GENDER\"] = 3\n",
    "df.loc[df[\"GENDER\"] == \"GIRLS\",\"GENDER\"] = 4\n",
    "df.loc[df[\"GENDER\"] == \"Erkek\",\"GENDER\"] = 5\n",
    "print(df.head())\n",
    "sns.countplot(df[\"GENDER\"])\n",
    "plt.show()"
   ]
  },
  {
   "cell_type": "code",
   "execution_count": 12,
   "id": "9c9d7b14",
   "metadata": {},
   "outputs": [
    {
     "name": "stderr",
     "output_type": "stream",
     "text": [
      "C:\\ProgramData\\Anaconda3\\lib\\site-packages\\seaborn\\_decorators.py:36: FutureWarning: Pass the following variable as a keyword arg: x. From version 0.12, the only valid positional argument will be `data`, and passing other arguments without an explicit keyword will result in an error or misinterpretation.\n",
      "  warnings.warn(\n"
     ]
    },
    {
     "data": {
      "image/png": "[encoded data removed]",
      "text/plain": [
       "<Figure size 1080x288 with 1 Axes>"
      ]
     },
     "metadata": {
      "needs_background": "light"
     },
     "output_type": "display_data"
    }
   ],
   "source": [
    "plt.figure(figsize=(15,4))\n",
    "sns.countplot(df[\"SIZE\"])\n",
    "plt.show()"
   ]
  },
  {
   "cell_type": "code",
   "execution_count": 13,
   "id": "00484b29",
   "metadata": {},
   "outputs": [
    {
     "name": "stdout",
     "output_type": "stream",
     "text": [
      "600     2003\n",
      "1800     952\n",
      "1050     730\n",
      "900      618\n",
      "2550     611\n",
      "        ... \n",
      "1053       1\n",
      "1713       1\n",
      "2403       1\n",
      "1026       1\n",
      "1806       1\n",
      "Name: COLOR, Length: 91, dtype: int64\n"
     ]
    }
   ],
   "source": [
    "print(df[\"COLOR\"].value_counts().sort_values(ascending=False))"
   ]
  },
  {
   "cell_type": "code",
   "execution_count": 14,
   "id": "0414b75b",
   "metadata": {},
   "outputs": [
    {
     "name": "stdout",
     "output_type": "stream",
     "text": [
      "SHIRT LONG SLEEVE     3105\n",
      "T SHIRT               2907\n",
      "DENIM PANTS           1168\n",
      "CHINOS                 644\n",
      "KNIT TROUSERS          530\n",
      "SHOES                  329\n",
      "SHIRT SHORT SLEEVE     258\n",
      "TROUSERS               145\n",
      "VOWEN SPORT PANTS      137\n",
      "DENIM SKIRT            114\n",
      "BELT                   101\n",
      "WOVEN CAPRI             90\n",
      "KNITTED SHORTS          86\n",
      "WOVEN SKIRT             77\n",
      "WOVEN DRESS             66\n",
      "BOTTOM UNDERWEAR        55\n",
      "PYJAMAS                 35\n",
      "SPORT SKIRT             32\n",
      "SEA SHORT               28\n",
      "UNDERWEAR               15\n",
      "SPORT BAG               14\n",
      "DENIM BERMUDA           13\n",
      "CAP                     12\n",
      "DENIM SHORT             11\n",
      "JACKET                   9\n",
      "MEN PYJAMAS              6\n",
      "LUGGAGE TRAVEL BAG       4\n",
      "FLIP FLOPS               3\n",
      "SHIRT TUXEDO             2\n",
      "DENIM DRESS              1\n",
      "KNITTED SKIRT            1\n",
      "LADIES LEGGINGS          1\n",
      "Name: PRODUCT, dtype: int64\n"
     ]
    }
   ],
   "source": [
    "print(df[\"PRODUCT\"].value_counts().sort_values(ascending=False))"
   ]
  },
  {
   "cell_type": "code",
   "execution_count": 15,
   "id": "886fe8a1",
   "metadata": {},
   "outputs": [],
   "source": [
    "La = LabelEncoder()"
   ]
  },
  {
   "cell_type": "code",
   "execution_count": 16,
   "id": "22213de1",
   "metadata": {},
   "outputs": [
    {
     "name": "stderr",
     "output_type": "stream",
     "text": [
      "C:\\ProgramData\\Anaconda3\\lib\\site-packages\\seaborn\\_decorators.py:36: FutureWarning: Pass the following variable as a keyword arg: x. From version 0.12, the only valid positional argument will be `data`, and passing other arguments without an explicit keyword will result in an error or misinterpretation.\n",
      "  warnings.warn(\n"
     ]
    },
    {
     "data": {
      "image/png": "[encoded data removed]",
      "text/plain": [
       "<Figure size 1080x288 with 1 Axes>"
      ]
     },
     "metadata": {
      "needs_background": "light"
     },
     "output_type": "display_data"
    }
   ],
   "source": [
    "plt.figure(figsize=(15,4))\n",
    "df[\"COLOR\"] = La.fit_transform(df[\"COLOR\"])\n",
    "sns.countplot(df[\"COLOR\"])\n",
    "plt.show()"
   ]
  },
  {
   "cell_type": "code",
   "execution_count": 17,
   "id": "4b5f2790",
   "metadata": {},
   "outputs": [
    {
     "name": "stderr",
     "output_type": "stream",
     "text": [
      "C:\\ProgramData\\Anaconda3\\lib\\site-packages\\seaborn\\_decorators.py:36: FutureWarning: Pass the following variable as a keyword arg: x. From version 0.12, the only valid positional argument will be `data`, and passing other arguments without an explicit keyword will result in an error or misinterpretation.\n",
      "  warnings.warn(\n"
     ]
    },
    {
     "data": {
      "image/png": "[encoded data removed]",
      "text/plain": [
       "<Figure size 1080x288 with 1 Axes>"
      ]
     },
     "metadata": {
      "needs_background": "light"
     },
     "output_type": "display_data"
    }
   ],
   "source": [
    "plt.figure(figsize=(15,4))\n",
    "df[\"PRODUCT\"] = La.fit_transform(df[\"PRODUCT\"])\n",
    "sns.countplot(df[\"PRODUCT\"])\n",
    "plt.show()"
   ]
  },
  {
   "cell_type": "code",
   "execution_count": 18,
   "id": "de6c2695",
   "metadata": {},
   "outputs": [
    {
     "name": "stderr",
     "output_type": "stream",
     "text": [
      "C:\\ProgramData\\Anaconda3\\lib\\site-packages\\seaborn\\_decorators.py:36: FutureWarning: Pass the following variable as a keyword arg: x. From version 0.12, the only valid positional argument will be `data`, and passing other arguments without an explicit keyword will result in an error or misinterpretation.\n",
      "  warnings.warn(\n"
     ]
    },
    {
     "data": {
      "image/png": "[encoded data removed]",
      "text/plain": [
       "<Figure size 1080x288 with 1 Axes>"
      ]
     },
     "metadata": {
      "needs_background": "light"
     },
     "output_type": "display_data"
    }
   ],
   "source": [
    "plt.figure(figsize=(15,4))\n",
    "df[\"SIZE\"] = La.fit_transform(df[\"SIZE\"])\n",
    "sns.countplot(df[\"SIZE\"])\n",
    "plt.show()"
   ]
  },
  {
   "cell_type": "code",
   "execution_count": 19,
   "id": "7099a1ff",
   "metadata": {},
   "outputs": [
    {
     "name": "stdout",
     "output_type": "stream",
     "text": [
      "GENDER      object\n",
      "PRODUCT      int32\n",
      "COLOR        int64\n",
      "SIZE         int32\n",
      "VAT        float64\n",
      "TOTAL        int64\n",
      "dtype: object\n",
      "  GENDER  PRODUCT  COLOR  SIZE   VAT  TOTAL\n",
      "0      1       25     55    61  2.96     40\n",
      "1      2       19     71    31  5.92     80\n",
      "2      1       19     18    39  5.92     80\n",
      "3      2       11      8    60  3.70     50\n",
      "4      1       19     47    28  6.58     89\n",
      "GENDER     0\n",
      "PRODUCT    0\n",
      "COLOR      0\n",
      "SIZE       0\n",
      "VAT        0\n",
      "TOTAL      0\n",
      "dtype: int64\n"
     ]
    }
   ],
   "source": [
    "print(df.dtypes)\n",
    "print(df.head())\n",
    "print(df.isnull().sum())"
   ]
  },
  {
   "cell_type": "code",
   "execution_count": 20,
   "id": "5a7fc5df",
   "metadata": {},
   "outputs": [
    {
     "name": "stdout",
     "output_type": "stream",
     "text": [
      "(9999, 5)\n",
      "(9999,)\n"
     ]
    }
   ],
   "source": [
    "x = df.drop(\"TOTAL\",axis=1)\n",
    "y = df[\"TOTAL\"]\n",
    "print(x.shape)\n",
    "print(y.shape)"
   ]
  },
  {
   "cell_type": "code",
   "execution_count": 21,
   "id": "4c8606df",
   "metadata": {},
   "outputs": [
    {
     "name": "stdout",
     "output_type": "stream",
     "text": [
      "[[-0.81457246  0.90686813  0.71253409  1.28608297 -0.5358405 ]\n",
      " [ 0.24873172  0.14552073  1.29899867 -0.39648672  0.90789786]\n",
      " [-0.81457246  0.14552073 -0.64366526  0.05219853  0.90789786]\n",
      " [ 0.24873172 -0.86960914 -1.01020563  1.22999732 -0.17490591]\n",
      " [-0.81457246  0.14552073  0.41930179 -0.56474369  1.2298125 ]]\n"
     ]
    }
   ],
   "source": [
    "ss = StandardScaler()\n",
    "x = ss.fit_transform(x)\n",
    "print(x[:5])"
   ]
  },
  {
   "cell_type": "code",
   "execution_count": 22,
   "id": "ce764a35",
   "metadata": {},
   "outputs": [
    {
     "name": "stdout",
     "output_type": "stream",
     "text": [
      "(6699, 5)\n",
      "(6699,)\n",
      "(3300, 5)\n",
      "(3300,)\n"
     ]
    }
   ],
   "source": [
    "X_train, X_test, y_train, y_test = train_test_split(x, y, test_size=0.33, random_state=44, shuffle =True)\n",
    "print(X_train.shape)\n",
    "print(y_train.shape)\n",
    "print(X_test.shape)\n",
    "print(y_test.shape)"
   ]
  },
  {
   "cell_type": "code",
   "execution_count": 24,
   "id": "3c084d99",
   "metadata": {},
   "outputs": [
    {
     "name": "stdout",
     "output_type": "stream",
     "text": [
      "____________________________________________________________________________________________________\n",
      "0.798817440282895\n",
      "0.7673753639041857\n",
      "____________________________________________________________________________________________________\n"
     ]
    }
   ],
   "source": [
    "Ln = LinearRegression()\n",
    "Ln.fit(X_train, y_train)\n",
    "\n",
    "print(\"_\"*100)\n",
    "print(Ln.score(X_train, y_train))\n",
    "print(Ln.score(X_test, y_test))\n",
    "print(\"_\"*100)"
   ]
  },
  {
   "cell_type": "code",
   "execution_count": 25,
   "id": "6c078c48",
   "metadata": {},
   "outputs": [
    {
     "name": "stdout",
     "output_type": "stream",
     "text": [
      "____________________________________________________________________________________________________\n",
      "0.9848284751857883\n",
      "0.9637529204054865\n",
      "____________________________________________________________________________________________________\n"
     ]
    }
   ],
   "source": [
    "Rf = RandomForestRegressor(n_estimators=10,max_depth=15, random_state=33)\n",
    "Rf.fit(X_train,y_train)\n",
    "\n",
    "print(\"_\"*100)\n",
    "print(Rf.score(X_train, y_train))\n",
    "print(Rf.score(X_test, y_test))\n",
    "print(\"_\"*100)"
   ]
  },
  {
   "cell_type": "code",
   "execution_count": 26,
   "id": "840b3345",
   "metadata": {},
   "outputs": [
    {
     "name": "stdout",
     "output_type": "stream",
     "text": [
      "[90. 30. 50. 60. 60.]\n"
     ]
    }
   ],
   "source": [
    "y_pred = Rf.predict(X_test)\n",
    "print(y_pred[:5])"
   ]
  },
  {
   "cell_type": "code",
   "execution_count": 27,
   "id": "7a52290b",
   "metadata": {},
   "outputs": [],
   "source": [
    "result = pd.DataFrame({\"y_test\": y_test, \"y_pred\": y_pred})\n",
    "# result.to_csv(\"result.csv\",index=False)"
   ]
  }
 ],
 "metadata": {
  "kernelspec": {
   "display_name": "Python 3",
   "language": "python",
   "name": "python3"
  },
  "language_info": {
   "codemirror_mode": {
    "name": "ipython",
    "version": 3
   },
   "file_extension": ".py",
   "mimetype": "text/x-python",
   "name": "python",
   "nbconvert_exporter": "python",
   "pygments_lexer": "ipython3",
   "version": "3.8.8"
  }
 },
 "nbformat": 4,
 "nbformat_minor": 5
}
